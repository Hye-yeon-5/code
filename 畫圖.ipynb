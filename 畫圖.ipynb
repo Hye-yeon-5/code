{
 "cells": [
  {
   "cell_type": "code",
   "execution_count": null,
   "id": "362eae1d",
   "metadata": {},
   "outputs": [],
   "source": [
    "import matplotlib.pyplot as plt\n",
    "import numpy as np\n",
    "import matplotlib as mpl\n",
    "\n",
    "def plot_loss_curves(fc_loss, cnn_loss, qcnn_loss):\n",
    "    fig, ax = plt.subplots(figsize=(10, 6))\n",
    "    epochs = np.arange(1, len(fc_loss) + 1)\n",
    "\n",
    "    ax.plot(epochs, fc_loss, \"go-\", label=\"Fully-Connected\", linewidth=2, markersize=6)\n",
    "    ax.plot(epochs, cnn_loss, \"rs-\", label=\"CNN\", linewidth=2, markersize=6)\n",
    "    ax.plot(epochs, qcnn_loss, \"b^-\", label=\"QCNN\", linewidth=2, markersize=6)\n",
    "\n",
    "    ax.xaxis.set_major_locator(mpl.ticker.MaxNLocator(integer=True))\n",
    "    \n",
    "    ax.set_xlim([1, max(len(fc_loss), len(cnn_loss), len(qcnn_loss))])\n",
    "    ax.set_ylim([0, max(max(fc_loss), max(cnn_loss), max(qcnn_loss))])\n",
    "    ax.legend(fontsize=12, loc='upper right')\n",
    "    ax.set_xlabel(\"Epochs\", fontsize=14)\n",
    "    ax.set_ylabel(\"Test Set Loss\", fontsize=14)\n",
    "    ax.grid(True)\n",
    "    ax.set_title(\"Loss Curves\", fontsize=16)\n",
    "\n",
    "    plt.tight_layout()\n",
    "    fig.savefig('loss.png', dpi=300)\n",
    "\n",
    "def plot_loss_curves_small(fc_loss, cnn_loss, qcnn_loss):\n",
    "    fig, ax = plt.subplots(figsize=(10, 6))\n",
    "    epochs = np.arange(1, len(fc_loss) + 1, 2)\n",
    "\n",
    "    ax.plot(epochs, fc_loss[::2], \"go-\", label=\"Fully-Connected\", linewidth=2, markersize=6)\n",
    "    ax.plot(epochs, cnn_loss[::2], \"rs-\", label=\"CNN\", linewidth=2, markersize=6)\n",
    "    ax.plot(epochs, qcnn_loss[::2], \"b^-\", label=\"QCNN\", linewidth=2, markersize=6)\n",
    "\n",
    "    ax.xaxis.set_major_locator(mpl.ticker.MaxNLocator(integer=True))\n",
    "    ax.set_xlim([1, max(len(fc_loss), len(cnn_loss), len(qcnn_loss)) // 2])\n",
    "    ax.set_ylim([0, max(max(fc_loss[::2]), max(cnn_loss[::2]), max(qcnn_loss[::2]))])\n",
    "    ax.legend(fontsize=12, loc='upper right')\n",
    "    ax.set_xlabel(\"Epochs\", fontsize=14)\n",
    "    ax.set_ylabel(\"Test Set Loss\", fontsize=14)\n",
    "    ax.grid(True)\n",
    "    ax.set_title(\"Loss Curves (Small)\", fontsize=16)\n",
    "\n",
    "    plt.tight_layout()\n",
    "    fig.savefig('loss_small.png', dpi=300)\n"
   ]
  },
  {
   "cell_type": "markdown",
   "id": "1e3335e8",
   "metadata": {},
   "source": [
    "Here is an image showing the circuit we used.  \n",
    "<img src=\"curve.png\"  width=\"60%\">\n"
   ]
  },
  {
   "cell_type": "markdown",
   "id": "575a05ab",
   "metadata": {},
   "source": [
    "Here is an image showing the circuit we used.  \n",
    "<img src=\"curve2.png\"  width=\"60%\">\n"
   ]
  },
  {
   "cell_type": "code",
   "execution_count": null,
   "id": "86f60de4",
   "metadata": {},
   "outputs": [],
   "source": []
  }
 ],
 "metadata": {
  "kernelspec": {
   "display_name": "Python 3 (ipykernel)",
   "language": "python",
   "name": "python3"
  },
  "language_info": {
   "codemirror_mode": {
    "name": "ipython",
    "version": 3
   },
   "file_extension": ".py",
   "mimetype": "text/x-python",
   "name": "python",
   "nbconvert_exporter": "python",
   "pygments_lexer": "ipython3",
   "version": "3.11.5"
  }
 },
 "nbformat": 4,
 "nbformat_minor": 5
}
